{
 "cells": [
  {
   "cell_type": "markdown",
   "metadata": {},
   "source": [
    "### Housing Project step 1\n",
    "#### Data Cleaning\n",
    "##### Group: Karan, Lance, Gil, Rachel, Alex, Travis"
   ]
  },
  {
   "cell_type": "markdown",
   "metadata": {},
   "source": [
    "### This is a simple R script to make converting your columns a bit easier\n",
    "### We can save much time using this tool"
   ]
  },
  {
   "cell_type": "markdown",
   "metadata": {},
   "source": [
    "* First, we're going to read in the data from all the years. \n",
    "* __Double Check your directory path__, my .csv's happen to be <br>\n",
    "in the directory upstream of my working directory."
   ]
  },
  {
   "cell_type": "code",
   "execution_count": 7,
   "metadata": {},
   "outputs": [],
   "source": [
    "# Imports\n",
    "library(dplyr)\n",
    "\n",
    "# Create a list of the years for which we have data\n",
    "years <- c(1991, seq(1993, 2017, 3))\n",
    "\n",
    "# Declare a list to store our dataframes in\n",
    "df_list <- list()\n",
    "\n",
    "# Make a list of the file names we're going to read in \n",
    "for (i in 1:length(years)) {\n",
    "\n",
    "    # Data-only data frame (with no headers):\n",
    "    data <- read.csv(paste('../nycHousing', years[i], '.csv', sep = ''), \n",
    "                     skip = 2, header = FALSE)\n",
    "\n",
    "    # Temporary data frame from which to extract the \n",
    "    # first row of headers, nrows = 2 so we don't waste time reading\n",
    "    # the whole csv again.\n",
    "    tmp <- read.csv(paste('../nycHousing', years[i], '.csv', sep = ''), \n",
    "                    header = TRUE, nrows = 2)\n",
    "\n",
    "    # Use headers from tmp for nych17:\n",
    "    names(data) <- names(tmp)\n",
    "\n",
    "    # Remove the temporary data frame:\n",
    "    rm(tmp)\n",
    "    \n",
    "    # Append the dataframe to a list of dataframes\n",
    "    df_list[[i]] <- data\n",
    "\n",
    "} # End for loop"
   ]
  },
  {
   "cell_type": "markdown",
   "metadata": {},
   "source": [
    "### Make your codebooks, y'all."
   ]
  },
  {
   "cell_type": "code",
   "execution_count": 2,
   "metadata": {},
   "outputs": [],
   "source": [
    "# Create dataframe codebooks for appropriate columns.\n",
    "codebook1 <- data.frame(borough = c(1, 2, 3, 4, 5),\n",
    "                       boroughName = c(\"Bronx\", \"Brooklyn\", \"Manhattan\",\n",
    "                                       \"Queens\", \"Staten Island\"))\n",
    "\n",
    "codebook2 <- data.frame(X_32a = c(0, 1, 8),\n",
    "                       heating_breakdown = c('Yes', 'No', 'Not Reported'))\n",
    "\n",
    "codebook3 <- data.frame(X_32b = c(2, 3, 4, 5, 8, 9),\n",
    "                       num_heat_breakdowns = c(\"1\", \"2\", \"3\",\n",
    "                                        \"4+\", \"Not Reported\",\n",
    "                                        \"No Breakdowns\"))"
   ]
  },
  {
   "cell_type": "markdown",
   "metadata": {},
   "source": [
    "### These are the functions to do the 'ole swap-a-roo"
   ]
  },
  {
   "cell_type": "code",
   "execution_count": 3,
   "metadata": {},
   "outputs": [],
   "source": [
    "# The following is a function to change numerical values to appropriate\n",
    "# categorical (named) values.\n",
    "#\n",
    "# This function replaces the old column with the new, and drops the old. \n",
    "#\n",
    "# The inputs are as follows:\n",
    "# orig_df - This is the unaltered dataframe from your .csv import (df object)\n",
    "# codebook_df - This is dataframe that represents your 'dictionary' (df object)\n",
    "# orig_name - the original name of the column (string)\n",
    "# new_name - a new (meaningful) name you would like for the column\n",
    "#\n",
    "# Note that old_name and new_name, have to match the column names specified in your \n",
    "# codebook dataframe object\n",
    "\n",
    "# This function appends the year column, it only needs to be used on one\n",
    "# of the columns to maintain a year column in the compiled dataframe\n",
    "rf_func_year <- function(orig_df, \n",
    "                         codebook_df, \n",
    "                         orig_name,\n",
    "                         new_name) {\n",
    "    \n",
    "    df <- left_join(x = codebook_df, y = orig_df, by = orig_name)\n",
    "    df <- select(df, -c(orig_name))\n",
    "    colnames(df)[colnames(df) == orig_name] <- new_name\n",
    "    df <- select(df, new_name, year)\n",
    "    return(df)\n",
    "}\n",
    "\n",
    "# This function doesn't append the year. It should be used for all \n",
    "# but the last column converted \n",
    "rf_func <- function(orig_df, \n",
    "                    codebook_df, \n",
    "                    orig_name,\n",
    "                    new_name) {\n",
    "    \n",
    "    df <- left_join(x = codebook_df, y = orig_df, by = orig_name)\n",
    "    df <- select(df, -c(orig_name))\n",
    "    colnames(df)[colnames(df) == orig_name] <- new_name\n",
    "    df <- select(df, new_name)\n",
    "    return(df)\n",
    "}"
   ]
  },
  {
   "cell_type": "markdown",
   "metadata": {},
   "source": [
    "### Use the above functions to clean 'em up. Then slap 'em together.\n",
    "* __Notice that you'll have to change the parameters__ of the function<br>\n",
    "calls to the terms referenced in your codebooks.\n",
    "* This will be great to use for visualizations, but not so good for building<br>\n",
    "an index. You cannot execute mathematical operations on the data in this <br>\n",
    "form, rendering it pretty useless in terms of calculating a quality index.<br>\n",
    "* We'll end up converting it back to integers (or maybe modifying it differently<br>\n",
    "with NA's for some of the categories to create a weighted numerical index?\n",
    "* You tell me."
   ]
  },
  {
   "cell_type": "code",
   "execution_count": 6,
   "metadata": {
    "scrolled": false
   },
   "outputs": [
    {
     "name": "stdout",
     "output_type": "stream",
     "text": [
      "[1] \"total samples: \" \"156230\"         \n"
     ]
    },
    {
     "data": {
      "text/html": [
       "<table>\n",
       "<thead><tr><th scope=col>boroughName</th><th scope=col>heating_breakdown</th><th scope=col>num_heat_breakdowns</th><th scope=col>year</th></tr></thead>\n",
       "<tbody>\n",
       "\t<tr><td>Bronx</td><td>Yes  </td><td>1    </td><td>91   </td></tr>\n",
       "\t<tr><td>Bronx</td><td>Yes  </td><td>1    </td><td>91   </td></tr>\n",
       "\t<tr><td>Bronx</td><td>Yes  </td><td>1    </td><td>91   </td></tr>\n",
       "\t<tr><td>Bronx</td><td>Yes  </td><td>1    </td><td>91   </td></tr>\n",
       "\t<tr><td>Bronx</td><td>Yes  </td><td>1    </td><td>91   </td></tr>\n",
       "\t<tr><td>Bronx</td><td>Yes  </td><td>1    </td><td>91   </td></tr>\n",
       "</tbody>\n",
       "</table>\n"
      ],
      "text/latex": [
       "\\begin{tabular}{r|llll}\n",
       " boroughName & heating\\_breakdown & num\\_heat\\_breakdowns & year\\\\\n",
       "\\hline\n",
       "\t Bronx & Yes   & 1     & 91   \\\\\n",
       "\t Bronx & Yes   & 1     & 91   \\\\\n",
       "\t Bronx & Yes   & 1     & 91   \\\\\n",
       "\t Bronx & Yes   & 1     & 91   \\\\\n",
       "\t Bronx & Yes   & 1     & 91   \\\\\n",
       "\t Bronx & Yes   & 1     & 91   \\\\\n",
       "\\end{tabular}\n"
      ],
      "text/markdown": [
       "\n",
       "boroughName | heating_breakdown | num_heat_breakdowns | year | \n",
       "|---|---|---|---|---|---|\n",
       "| Bronx | Yes   | 1     | 91    | \n",
       "| Bronx | Yes   | 1     | 91    | \n",
       "| Bronx | Yes   | 1     | 91    | \n",
       "| Bronx | Yes   | 1     | 91    | \n",
       "| Bronx | Yes   | 1     | 91    | \n",
       "| Bronx | Yes   | 1     | 91    | \n",
       "\n",
       "\n"
      ],
      "text/plain": [
       "  boroughName heating_breakdown num_heat_breakdowns year\n",
       "1 Bronx       Yes               1                   91  \n",
       "2 Bronx       Yes               1                   91  \n",
       "3 Bronx       Yes               1                   91  \n",
       "4 Bronx       Yes               1                   91  \n",
       "5 Bronx       Yes               1                   91  \n",
       "6 Bronx       Yes               1                   91  "
      ]
     },
     "metadata": {},
     "output_type": "display_data"
    },
    {
     "name": "stdout",
     "output_type": "stream",
     "text": [
      "'data.frame':\t156230 obs. of  4 variables:\n",
      " $ boroughName        : Factor w/ 5 levels \"Bronx\",\"Brooklyn\",..: 1 1 1 1 1 1 1 1 1 1 ...\n",
      " $ heating_breakdown  : Factor w/ 3 levels \"No\",\"Not Reported\",..: 3 3 3 3 3 3 3 3 3 3 ...\n",
      " $ num_heat_breakdowns: Factor w/ 6 levels \"1\",\"2\",\"3\",\"4+\",..: 1 1 1 1 1 1 1 1 1 1 ...\n",
      " $ year               : Factor w/ 10 levels \"91\",\"93\",\"96\",..: 1 1 1 1 1 1 1 1 1 1 ...\n"
     ]
    }
   ],
   "source": [
    "# Declare a list to capture the cleaned dataframes\n",
    "clean_df_list <- list()\n",
    "\n",
    "# Counter\n",
    "i <- 1\n",
    "\n",
    "# Iterate through the uncleaned dataframes, clean and factor them\n",
    "for (dataframe in df_list) {\n",
    "    \n",
    "    # Use the appropriate function with parameters to rename your answers\n",
    "    # and drop the unnecessary columns\n",
    "    df1 <- rf_func(dataframe, codebook1, 'borough', 'boroughName')\n",
    "    df2 <- rf_func(dataframe, codebook2, 'X_32a', 'heating_breakdown')\n",
    "    df3 <- rf_func_year(dataframe, codebook3, 'X_32b', 'num_heat_breakdowns')\n",
    "    \n",
    "    # Bind up the cleaned data frames\n",
    "    df <- cbind(df1, df2, df3)\n",
    "    \n",
    "    # Append the clean dataframe to the list\n",
    "    clean_df_list[[i]] <- df\n",
    "    \n",
    "    # Increase the counter\n",
    "    i <- i + 1\n",
    "}\n",
    "\n",
    "# Row bind the list of cleaned dataframes, in order\n",
    "aggregated_df <- bind_rows(clean_df_list)\n",
    "\n",
    "# Factor the year column\n",
    "aggregated_df$year <- as.factor(aggregated_df$year)\n",
    "\n",
    "# Show some proof that this works\n",
    "print(c('total samples: ', length(aggregated_df$borough)))\n",
    "head(aggregated_df)\n",
    "str(aggregated_df)"
   ]
  }
 ],
 "metadata": {
  "kernelspec": {
   "display_name": "R",
   "language": "R",
   "name": "ir"
  },
  "language_info": {
   "codemirror_mode": "r",
   "file_extension": ".r",
   "mimetype": "text/x-r-source",
   "name": "R",
   "pygments_lexer": "r",
   "version": "3.5.1"
  }
 },
 "nbformat": 4,
 "nbformat_minor": 2
}
