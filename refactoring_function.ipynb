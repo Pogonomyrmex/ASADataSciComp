{
 "cells": [
  {
   "cell_type": "markdown",
   "metadata": {},
   "source": [
    "### Housing Project step 1\n",
    "#### Data Cleaning\n",
    "##### Group: Karan, Lance, Gil, Rachel, Alex, Travis"
   ]
  },
  {
   "cell_type": "markdown",
   "metadata": {},
   "source": [
    "### This is a simple R script to make converting your columns a bit easier\n",
    "### We can save much time using this tool"
   ]
  },
  {
   "cell_type": "markdown",
   "metadata": {},
   "source": [
    "* First, we're going to read in the data from all the years. \n",
    "* __Double Check your directory path__, my .csv's happen to be <br>\n",
    "in the directory upstream of my working directory."
   ]
  },
  {
   "cell_type": "code",
   "execution_count": 1,
   "metadata": {},
   "outputs": [
    {
     "name": "stderr",
     "output_type": "stream",
     "text": [
      "\n",
      "Attaching package: ‘dplyr’\n",
      "\n",
      "The following objects are masked from ‘package:stats’:\n",
      "\n",
      "    filter, lag\n",
      "\n",
      "The following objects are masked from ‘package:base’:\n",
      "\n",
      "    intersect, setdiff, setequal, union\n",
      "\n"
     ]
    }
   ],
   "source": [
    "# Imports\n",
    "library(dplyr)\n",
    "\n",
    "# Create a list of the years for which we have data\n",
    "years <- c(1991, seq(1993, 2017, 3))\n",
    "\n",
    "# Declare a list to store our dataframes in\n",
    "df_list <- list()\n",
    "\n",
    "# Make a list of the file names we're going to read in \n",
    "for (i in 1:length(years)) {\n",
    "\n",
    "    # Data-only data frame (with no headers):\n",
    "    data <- read.csv(paste('../nycHousing', years[i], '.csv', sep = ''), \n",
    "                     skip = 2, header = FALSE)\n",
    "\n",
    "    # Temporary data frame from which to extract the \n",
    "    # first row of headers, nrows = 2 so we don't waste time reading\n",
    "    # the whole csv again.\n",
    "    tmp <- read.csv(paste('../nycHousing', years[i], '.csv', sep = ''), \n",
    "                    header = TRUE, nrows = 2)\n",
    "\n",
    "    # Use headers from tmp for nych17:\n",
    "    names(data) <- names(tmp)\n",
    "\n",
    "    # Remove the temporary data frame:\n",
    "    rm(tmp)\n",
    "    \n",
    "    # Append the dataframe to a list of dataframes\n",
    "    df_list[[i]] <- data\n",
    "\n",
    "} # End for loop"
   ]
  },
  {
   "cell_type": "markdown",
   "metadata": {},
   "source": [
    "### Missing siding, bricks, etc., or sloped walls\n",
    "* In all besides the 2017 X_d1 and X_d2 are separate. 2017, they're together as <br>\n",
    "X_d12. \n",
    "* The following loop combines X_d1 and X_d2 into a X_d12 as the 2017 survey has <br>\n",
    "so we can use it in the index."
   ]
  },
  {
   "cell_type": "code",
   "execution_count": 2,
   "metadata": {},
   "outputs": [],
   "source": [
    "for (i in 1:9) {\n",
    "    df <- df_list[[i]] %>%\n",
    "            select(X_d1, X_d2)\n",
    "\n",
    "    X_d12 <- vector()\n",
    "    \n",
    "    for (j in 1:length(df$X_d1)) {\n",
    "    \n",
    "        if (df[j, 1] == 1 | df[j, 2] == 1) {\n",
    "            x <- 1\n",
    "            X_d12[j] <- x\n",
    "        } else if (df[j, 1] == 8 | df[j, 2] == 8) {\n",
    "            x <- 8\n",
    "            X_d12[j] <- x\n",
    "        } else {\n",
    "            x <- 9\n",
    "            X_d12[j] <- x\n",
    "        } \n",
    "    }\n",
    "    \n",
    "    df_list[[i]] <- cbind(X_d12, df_list[[i]])\n",
    "    df_list[[i]] <- select(df_list[[i]], -c(X_d1, X_d2)) \n",
    "}"
   ]
  },
  {
   "cell_type": "markdown",
   "metadata": {},
   "source": [
    "* We've got a similar problem in the completed plumbing question:\n",
    "* Here's a solve."
   ]
  },
  {
   "cell_type": "code",
   "execution_count": 3,
   "metadata": {},
   "outputs": [],
   "source": [
    "for (i in 1:9) {\n",
    "    df <- df_list[[i]] %>%\n",
    "            select(X_25a)\n",
    "\n",
    "    X_25new <- vector()\n",
    "    \n",
    "    for (j in 1:length(df$X_25a)) {\n",
    "    \n",
    "        if (df[j, 1] == 0) {\n",
    "            X_25new[j] <- 1\n",
    "        } else {\n",
    "            X_25new[j] <- 2\n",
    "        } \n",
    "    }\n",
    "    \n",
    "    df_list[[i]] <- cbind(X_25new, df_list[[i]])\n",
    "    df_list[[i]] <- select(df_list[[i]], -c(X_25a)) \n",
    "}\n",
    "\n",
    "df_list[[10]] <- df_list[[10]] %>%\n",
    "                    rename(X_25new = X_25a)"
   ]
  },
  {
   "cell_type": "markdown",
   "metadata": {},
   "source": [
    "### Make your codebooks, y'all."
   ]
  },
  {
   "cell_type": "code",
   "execution_count": 4,
   "metadata": {},
   "outputs": [],
   "source": [
    "# Create dataframe codebooks for appropriate columns.\n",
    "cb1 <- data.frame(borough = c(1, 2, 3, 4, 5),\n",
    "                    borough_name = c(\"Bronx\", \"Brooklyn\", \"Manhattan\",\n",
    "                                       \"Queens\", \"Staten Island\"))\n",
    "\n",
    "cb2 <- data.frame(X_d12 = c(1, 9, 8), \n",
    "                   ex_walls_missing_sloping = c(\"Yes\", \"No\", NA))  \n",
    "\n",
    "# cb3 <- data.frame(X_d2 = c(1, 9, 8), \n",
    "#                    ex_walls_sloping = c(\"No\", \"No\", NA)) \n",
    "\n",
    "cb4 <- data.frame(X_d3 = c(1, 9, 8),\n",
    "                   ex_walls_cracks = c(\"Yes\", \"No\", NA)) \n",
    "\n",
    "cb5 <- data.frame(X_d4 = c(1, 9 ,8), \n",
    "                   ex_walls_looseMaterial = c(\"Yes\", \"No\", NA)) \n",
    "\n",
    "cb6 <- data.frame(X_e1 = c(1, 9, 8), \n",
    "                   ex_windows_missing = c(\"Yes\", \"No\", NA))  \n",
    "\n",
    "cb7 <- data.frame(X_e2 = c(1, 9, 8), \n",
    "                   ex_windows_loose = c(\"Yes\", \"No \", NA)) \n",
    "\n",
    "cb8 <- data.frame(X_e3 = c(1, 9, 8), \n",
    "                   ex_windows_boarded = c(\"Yes\", \"No\", NA))\n",
    "\n",
    "# Yes means loose, broken, or missing \n",
    "cb9 <- data.frame(X_f1 = c(1, 9, 8), \n",
    "                   handrail_problem = c(\"Yes\", \"No \", NA))  \n",
    "\n",
    "cb10 <- data.frame(X_f2 = c(1, 9, 8), \n",
    "                   stairway_problem = c(\"Yes\", \"No \", NA))\n",
    "\n",
    "cb12 <- data.frame(X_g3 = c(1, 9, 8), \n",
    "                   floors_deeply_worn = c(\"Yes\", \"No\", NA)) \n",
    "\n",
    "cb13 <- data.frame(X_g4 = c(1, 9, 8), \n",
    "                   floors_holes = c(\"Yes\", \"No\", NA)) \n",
    "\n",
    "cb14 <- data.frame(X_h = c(1, 2, 3, 8), \n",
    "                  building_condition = c(\"Dilapidated\", \"Sound\", \n",
    "                                         \"Deteriorating\", NA))\n",
    "\n",
    "cb15 <- data.frame(X_8 = 1:4, \n",
    "                  condo_coop = c(\"No\", \"Condo\", \"Coop\", NA))\n",
    "\n",
    "cb16 <- data.frame(X_9a = c(1,9), \n",
    "                   rent_or_own = c(\"Owned\", \"Rented\"))\n",
    "\n",
    "cb17 <- data.frame(X_23a = c(1, 2), \n",
    "                   elevator = c(\"Yes\", \"No\"))\n",
    "\n",
    "cb18 <- data.frame(X_25new = c(1, 2), \n",
    "                    complete_plumbing = c(\"Yes\", \"No\"))\n",
    "\n",
    "cb20 <- data.frame(X_25c = c(1:3,8:9), \n",
    "                    toilet_breakdowns = c(\"Yes\", \"No\", \n",
    "                                         \"No toilet\", \n",
    "                                         NA, \"No toilet\"))\n",
    "\n",
    "cb21 <- data.frame(X_26a = c(0, 1, 2), \n",
    "                    complete_kitchen = c(\"Yes\", \"Partial\", \"No\"))\n",
    "\n",
    "cb22 <- data.frame(X_26c = c(1, 2, 8, 9), \n",
    "                    kitchen_function = c(\"Yes\", \"No\", NA, \"No\"))\n",
    "\n",
    "cb23 <- data.frame(X_27 = 1:4, \n",
    "                   type_heating_fuel = c(\"Fuel oil\", \"Utility gas\", \n",
    "                                         \"Electricity\", \"Other fuel\"))\n",
    "\n",
    "cb24 <- data.frame(X_32a = c(0, 1, 8),\n",
    "                    heating_breakdown = c('Yes', 'No', NA))\n",
    "\n",
    "cb25 <- data.frame(X_32b = c(2, 3, 4, 5, 8, 9),\n",
    "                    num_heat_breakdowns = c(\"1\", \"2\", \"3\",\n",
    "                                        \"4+\", NA, \"No Breakdowns\"))\n",
    "\n",
    "cb26 <- data.frame(X_35a = c(1, 2, 8), \n",
    "                   mice_present = c(\"Yes\", \"No\", NA))\n",
    "\n",
    "cb27 <- data.frame(X_35c = c(1, 2, 3, 4, 5, 8), \n",
    "                    exterminator_service = c(\"Regularly\", \"When needed\", \n",
    "                                            \"Irregularly\", \"No\", NA, NA))\n",
    "cb28 <- data.frame(X_36a = c(1, 2, 8), \n",
    "                   wall_cracks_or_holes = c(\"Yes\", \"No\", NA))\n",
    "\n",
    "cb29 <- data.frame(X_36b = c(1, 2, 8), \n",
    "                   holes_in_floors = c(\"Yes\", \"No\", NA))\n",
    "\n",
    "# Need coebooks for 37a, 37b, 39\n",
    "\n",
    "cb30 <- data.frame(X_38a = c(1, 2, 8), \n",
    "                   water_leaks = c(\"Yes\", \"No\", NA))\n",
    "\n",
    "cb31 <- data.frame(X_39 = c(1:4,8), \n",
    "                   neighborhood_rating = c(\"Excellent\", \"Good\", \"Fair\", \"Poor\", NA))"
   ]
  },
  {
   "cell_type": "markdown",
   "metadata": {},
   "source": [
    "### These are the functions to do the 'ole swap-a-roo"
   ]
  },
  {
   "cell_type": "code",
   "execution_count": 5,
   "metadata": {},
   "outputs": [],
   "source": [
    "# The following is a function to change numerical values to appropriate\n",
    "# categorical (named) values.\n",
    "#\n",
    "# This function replaces the old column with the new, and drops the old. \n",
    "#\n",
    "# The inputs are as follows:\n",
    "# orig_df - This is the unaltered dataframe from your .csv import (df object)\n",
    "# codebook_df - This is dataframe that represents your 'dictionary' (df object)\n",
    "# orig_name - the original name of the column (string)\n",
    "# new_name - a new (meaningful) name you would like for the column\n",
    "#\n",
    "# Note that old_name and new_name, have to match the column names specified in your \n",
    "# codebook dataframe object\n",
    "\n",
    "# This function doesn't append the year. It should be used for all \n",
    "# but the last column converted \n",
    "rf_func <- function(orig_df, \n",
    "                    codebook_df, \n",
    "                    orig_name,\n",
    "                    new_name) {\n",
    "    \n",
    "    df <- full_join(x = codebook_df, y = orig_df, by = orig_name)\n",
    "    df <- select(df, -c(orig_name))\n",
    "    colnames(df)[colnames(df) == orig_name] <- new_name\n",
    "    return(df)\n",
    "}"
   ]
  },
  {
   "cell_type": "markdown",
   "metadata": {},
   "source": [
    "### dplyr reordering\n",
    "\n",
    "* I was seeing some unusual results while looking at the 'head' of our <br>\n",
    "aggregated dataframe. As it turns out, this is because during the join <br>\n",
    "function, dplyr reorders the rows. It made me realize that the columns were <br>\n",
    "each reordering the rows individually, before the cbind, ruining the data. <br>\n",
    "I'm going to refactor the code to solve.\n",
    "* Below "
   ]
  },
  {
   "cell_type": "code",
   "execution_count": 6,
   "metadata": {},
   "outputs": [
    {
     "data": {
      "text/html": [
       "<table>\n",
       "<thead><tr><th scope=col>X_25new</th><th scope=col>X_d12</th><th scope=col>recordtype</th><th scope=col>borough</th><th scope=col>X_d3</th><th scope=col>X_d4</th><th scope=col>X_d5</th><th scope=col>X_d6</th><th scope=col>X_e1</th><th scope=col>X_e2</th><th scope=col>⋯</th><th scope=col>hhissi</th><th scope=col>hhincdis</th><th scope=col>hhincva</th><th scope=col>sub</th><th scope=col>hhweight</th><th scope=col>seqn</th><th scope=col>year</th><th scope=col>linkage</th><th scope=col>sba</th><th scope=col>geo_id2</th></tr></thead>\n",
       "<tbody>\n",
       "\t<tr><td>1       </td><td>9       </td><td>1       </td><td>3       </td><td>9       </td><td>9       </td><td>1       </td><td>9       </td><td>9       </td><td>9       </td><td>⋯       </td><td>  7800  </td><td>999999  </td><td>999999  </td><td>8       </td><td> 1572695</td><td>24      </td><td>93      </td><td>1       </td><td>308     </td><td>3603803 </td></tr>\n",
       "\t<tr><td>1       </td><td>1       </td><td>1       </td><td>3       </td><td>9       </td><td>9       </td><td>9       </td><td>9       </td><td>1       </td><td>1       </td><td>⋯       </td><td>999999  </td><td>999999  </td><td>999999  </td><td>7       </td><td> 1549944</td><td>25      </td><td>93      </td><td>1       </td><td>307     </td><td>3603802 </td></tr>\n",
       "\t<tr><td>1       </td><td>9       </td><td>1       </td><td>3       </td><td>9       </td><td>9       </td><td>1       </td><td>9       </td><td>9       </td><td>9       </td><td>⋯       </td><td>  6240  </td><td>999999  </td><td>999999  </td><td>7       </td><td> 1578279</td><td>34      </td><td>93      </td><td>2       </td><td>307     </td><td>3603802 </td></tr>\n",
       "\t<tr><td>1       </td><td>1       </td><td>1       </td><td>1       </td><td>9       </td><td>9       </td><td>9       </td><td>9       </td><td>9       </td><td>1       </td><td>⋯       </td><td>  3000  </td><td>999999  </td><td>999999  </td><td>1       </td><td> 1337616</td><td>38      </td><td>93      </td><td>1       </td><td>101     </td><td>3603710 </td></tr>\n",
       "\t<tr><td>1       </td><td>9       </td><td>1       </td><td>3       </td><td>9       </td><td>9       </td><td>1       </td><td>9       </td><td>9       </td><td>9       </td><td>⋯       </td><td>  4200  </td><td>999999  </td><td>999999  </td><td>8       </td><td>14117340</td><td>46      </td><td>93      </td><td>2       </td><td>308     </td><td>3603803 </td></tr>\n",
       "\t<tr><td>1       </td><td>9       </td><td>1       </td><td>1       </td><td>9       </td><td>9       </td><td>1       </td><td>9       </td><td>9       </td><td>9       </td><td>⋯       </td><td>  6200  </td><td>999999  </td><td>999999  </td><td>1       </td><td> 7198430</td><td>51      </td><td>93      </td><td>2       </td><td>101     </td><td>3603710 </td></tr>\n",
       "</tbody>\n",
       "</table>\n"
      ],
      "text/latex": [
       "\\begin{tabular}{r|lllllllllllllllllllllllllllllllllllllllllllllllllllllllllllllllllllllllllllllllllllllllllllllllllllllllllllllllllllllllllllllllllll}\n",
       " X\\_25new & X\\_d12 & recordtype & borough & X\\_d3 & X\\_d4 & X\\_d5 & X\\_d6 & X\\_e1 & X\\_e2 & ⋯ & hhissi & hhincdis & hhincva & sub & hhweight & seqn & year & linkage & sba & geo\\_id2\\\\\n",
       "\\hline\n",
       "\t 1        & 9        & 1        & 3        & 9        & 9        & 1        & 9        & 9        & 9        & ⋯        &   7800   & 999999   & 999999   & 8        &  1572695 & 24       & 93       & 1        & 308      & 3603803 \\\\\n",
       "\t 1        & 1        & 1        & 3        & 9        & 9        & 9        & 9        & 1        & 1        & ⋯        & 999999   & 999999   & 999999   & 7        &  1549944 & 25       & 93       & 1        & 307      & 3603802 \\\\\n",
       "\t 1        & 9        & 1        & 3        & 9        & 9        & 1        & 9        & 9        & 9        & ⋯        &   6240   & 999999   & 999999   & 7        &  1578279 & 34       & 93       & 2        & 307      & 3603802 \\\\\n",
       "\t 1        & 1        & 1        & 1        & 9        & 9        & 9        & 9        & 9        & 1        & ⋯        &   3000   & 999999   & 999999   & 1        &  1337616 & 38       & 93       & 1        & 101      & 3603710 \\\\\n",
       "\t 1        & 9        & 1        & 3        & 9        & 9        & 1        & 9        & 9        & 9        & ⋯        &   4200   & 999999   & 999999   & 8        & 14117340 & 46       & 93       & 2        & 308      & 3603803 \\\\\n",
       "\t 1        & 9        & 1        & 1        & 9        & 9        & 1        & 9        & 9        & 9        & ⋯        &   6200   & 999999   & 999999   & 1        &  7198430 & 51       & 93       & 2        & 101      & 3603710 \\\\\n",
       "\\end{tabular}\n"
      ],
      "text/markdown": [
       "\n",
       "X_25new | X_d12 | recordtype | borough | X_d3 | X_d4 | X_d5 | X_d6 | X_e1 | X_e2 | ⋯ | hhissi | hhincdis | hhincva | sub | hhweight | seqn | year | linkage | sba | geo_id2 | \n",
       "|---|---|---|---|---|---|\n",
       "| 1        | 9        | 1        | 3        | 9        | 9        | 1        | 9        | 9        | 9        | ⋯        |   7800   | 999999   | 999999   | 8        |  1572695 | 24       | 93       | 1        | 308      | 3603803  | \n",
       "| 1        | 1        | 1        | 3        | 9        | 9        | 9        | 9        | 1        | 1        | ⋯        | 999999   | 999999   | 999999   | 7        |  1549944 | 25       | 93       | 1        | 307      | 3603802  | \n",
       "| 1        | 9        | 1        | 3        | 9        | 9        | 1        | 9        | 9        | 9        | ⋯        |   6240   | 999999   | 999999   | 7        |  1578279 | 34       | 93       | 2        | 307      | 3603802  | \n",
       "| 1        | 1        | 1        | 1        | 9        | 9        | 9        | 9        | 9        | 1        | ⋯        |   3000   | 999999   | 999999   | 1        |  1337616 | 38       | 93       | 1        | 101      | 3603710  | \n",
       "| 1        | 9        | 1        | 3        | 9        | 9        | 1        | 9        | 9        | 9        | ⋯        |   4200   | 999999   | 999999   | 8        | 14117340 | 46       | 93       | 2        | 308      | 3603803  | \n",
       "| 1        | 9        | 1        | 1        | 9        | 9        | 1        | 9        | 9        | 9        | ⋯        |   6200   | 999999   | 999999   | 1        |  7198430 | 51       | 93       | 2        | 101      | 3603710  | \n",
       "\n",
       "\n"
      ],
      "text/plain": [
       "  X_25new X_d12 recordtype borough X_d3 X_d4 X_d5 X_d6 X_e1 X_e2 ⋯ hhissi\n",
       "1 1       9     1          3       9    9    1    9    9    9    ⋯   7800\n",
       "2 1       1     1          3       9    9    9    9    1    1    ⋯ 999999\n",
       "3 1       9     1          3       9    9    1    9    9    9    ⋯   6240\n",
       "4 1       1     1          1       9    9    9    9    9    1    ⋯   3000\n",
       "5 1       9     1          3       9    9    1    9    9    9    ⋯   4200\n",
       "6 1       9     1          1       9    9    1    9    9    9    ⋯   6200\n",
       "  hhincdis hhincva sub hhweight seqn year linkage sba geo_id2\n",
       "1 999999   999999  8    1572695 24   93   1       308 3603803\n",
       "2 999999   999999  7    1549944 25   93   1       307 3603802\n",
       "3 999999   999999  7    1578279 34   93   2       307 3603802\n",
       "4 999999   999999  1    1337616 38   93   1       101 3603710\n",
       "5 999999   999999  8   14117340 46   93   2       308 3603803\n",
       "6 999999   999999  1    7198430 51   93   2       101 3603710"
      ]
     },
     "metadata": {},
     "output_type": "display_data"
    },
    {
     "data": {
      "text/html": [
       "<table>\n",
       "<thead><tr><th scope=col>ex_walls_cracks</th><th scope=col>ex_walls_missing_sloping</th><th scope=col>X_25new</th><th scope=col>recordtype</th><th scope=col>borough</th><th scope=col>X_d4</th><th scope=col>X_d5</th><th scope=col>X_d6</th><th scope=col>X_e1</th><th scope=col>X_e2</th><th scope=col>⋯</th><th scope=col>hhissi</th><th scope=col>hhincdis</th><th scope=col>hhincva</th><th scope=col>sub</th><th scope=col>hhweight</th><th scope=col>seqn</th><th scope=col>year</th><th scope=col>linkage</th><th scope=col>sba</th><th scope=col>geo_id2</th></tr></thead>\n",
       "<tbody>\n",
       "\t<tr><td>Yes     </td><td>Yes     </td><td>1       </td><td>1       </td><td>3       </td><td>1       </td><td>9       </td><td>9       </td><td>1       </td><td>1       </td><td>⋯       </td><td>  5460  </td><td>999999  </td><td>999999  </td><td>8       </td><td>17156324</td><td> 246    </td><td>93      </td><td>1       </td><td>308     </td><td>3603803 </td></tr>\n",
       "\t<tr><td>Yes     </td><td>Yes     </td><td>1       </td><td>1       </td><td>2       </td><td>9       </td><td>9       </td><td>9       </td><td>1       </td><td>1       </td><td>⋯       </td><td>  3600  </td><td>999999  </td><td>999999  </td><td>4       </td><td> 1437938</td><td>1170    </td><td>93      </td><td>2       </td><td>204     </td><td>3604002 </td></tr>\n",
       "\t<tr><td>Yes     </td><td>Yes     </td><td>1       </td><td>1       </td><td>3       </td><td>1       </td><td>9       </td><td>9       </td><td>1       </td><td>1       </td><td>⋯       </td><td> 10224  </td><td>999999  </td><td>999999  </td><td>8       </td><td>15722196</td><td>1418    </td><td>93      </td><td>1       </td><td>308     </td><td>3603803 </td></tr>\n",
       "\t<tr><td>Yes     </td><td>Yes     </td><td>1       </td><td>1       </td><td>3       </td><td>9       </td><td>9       </td><td>9       </td><td>9       </td><td>9       </td><td>⋯       </td><td>999999  </td><td>999999  </td><td>999999  </td><td>8       </td><td>15658576</td><td>2530    </td><td>93      </td><td>1       </td><td>308     </td><td>3603803 </td></tr>\n",
       "\t<tr><td>Yes     </td><td>Yes     </td><td>1       </td><td>1       </td><td>3       </td><td>1       </td><td>9       </td><td>9       </td><td>1       </td><td>1       </td><td>⋯       </td><td>999999  </td><td>999999  </td><td>999999  </td><td>6       </td><td>19855012</td><td>2671    </td><td>93      </td><td>1       </td><td>306     </td><td>3603805 </td></tr>\n",
       "\t<tr><td>Yes     </td><td>Yes     </td><td>1       </td><td>1       </td><td>2       </td><td>9       </td><td>9       </td><td>9       </td><td>1       </td><td>1       </td><td>⋯       </td><td>  5124  </td><td>999999  </td><td>999999  </td><td>4       </td><td> 1503955</td><td>3543    </td><td>93      </td><td>2       </td><td>204     </td><td>3604002 </td></tr>\n",
       "</tbody>\n",
       "</table>\n"
      ],
      "text/latex": [
       "\\begin{tabular}{r|lllllllllllllllllllllllllllllllllllllllllllllllllllllllllllllllllllllllllllllllllllllllllllllllllllllllllllllllllllllllllllllllllll}\n",
       " ex\\_walls\\_cracks & ex\\_walls\\_missing\\_sloping & X\\_25new & recordtype & borough & X\\_d4 & X\\_d5 & X\\_d6 & X\\_e1 & X\\_e2 & ⋯ & hhissi & hhincdis & hhincva & sub & hhweight & seqn & year & linkage & sba & geo\\_id2\\\\\n",
       "\\hline\n",
       "\t Yes      & Yes      & 1        & 1        & 3        & 1        & 9        & 9        & 1        & 1        & ⋯        &   5460   & 999999   & 999999   & 8        & 17156324 &  246     & 93       & 1        & 308      & 3603803 \\\\\n",
       "\t Yes      & Yes      & 1        & 1        & 2        & 9        & 9        & 9        & 1        & 1        & ⋯        &   3600   & 999999   & 999999   & 4        &  1437938 & 1170     & 93       & 2        & 204      & 3604002 \\\\\n",
       "\t Yes      & Yes      & 1        & 1        & 3        & 1        & 9        & 9        & 1        & 1        & ⋯        &  10224   & 999999   & 999999   & 8        & 15722196 & 1418     & 93       & 1        & 308      & 3603803 \\\\\n",
       "\t Yes      & Yes      & 1        & 1        & 3        & 9        & 9        & 9        & 9        & 9        & ⋯        & 999999   & 999999   & 999999   & 8        & 15658576 & 2530     & 93       & 1        & 308      & 3603803 \\\\\n",
       "\t Yes      & Yes      & 1        & 1        & 3        & 1        & 9        & 9        & 1        & 1        & ⋯        & 999999   & 999999   & 999999   & 6        & 19855012 & 2671     & 93       & 1        & 306      & 3603805 \\\\\n",
       "\t Yes      & Yes      & 1        & 1        & 2        & 9        & 9        & 9        & 1        & 1        & ⋯        &   5124   & 999999   & 999999   & 4        &  1503955 & 3543     & 93       & 2        & 204      & 3604002 \\\\\n",
       "\\end{tabular}\n"
      ],
      "text/markdown": [
       "\n",
       "ex_walls_cracks | ex_walls_missing_sloping | X_25new | recordtype | borough | X_d4 | X_d5 | X_d6 | X_e1 | X_e2 | ⋯ | hhissi | hhincdis | hhincva | sub | hhweight | seqn | year | linkage | sba | geo_id2 | \n",
       "|---|---|---|---|---|---|\n",
       "| Yes      | Yes      | 1        | 1        | 3        | 1        | 9        | 9        | 1        | 1        | ⋯        |   5460   | 999999   | 999999   | 8        | 17156324 |  246     | 93       | 1        | 308      | 3603803  | \n",
       "| Yes      | Yes      | 1        | 1        | 2        | 9        | 9        | 9        | 1        | 1        | ⋯        |   3600   | 999999   | 999999   | 4        |  1437938 | 1170     | 93       | 2        | 204      | 3604002  | \n",
       "| Yes      | Yes      | 1        | 1        | 3        | 1        | 9        | 9        | 1        | 1        | ⋯        |  10224   | 999999   | 999999   | 8        | 15722196 | 1418     | 93       | 1        | 308      | 3603803  | \n",
       "| Yes      | Yes      | 1        | 1        | 3        | 9        | 9        | 9        | 9        | 9        | ⋯        | 999999   | 999999   | 999999   | 8        | 15658576 | 2530     | 93       | 1        | 308      | 3603803  | \n",
       "| Yes      | Yes      | 1        | 1        | 3        | 1        | 9        | 9        | 1        | 1        | ⋯        | 999999   | 999999   | 999999   | 6        | 19855012 | 2671     | 93       | 1        | 306      | 3603805  | \n",
       "| Yes      | Yes      | 1        | 1        | 2        | 9        | 9        | 9        | 1        | 1        | ⋯        |   5124   | 999999   | 999999   | 4        |  1503955 | 3543     | 93       | 2        | 204      | 3604002  | \n",
       "\n",
       "\n"
      ],
      "text/plain": [
       "  ex_walls_cracks ex_walls_missing_sloping X_25new recordtype borough X_d4 X_d5\n",
       "1 Yes             Yes                      1       1          3       1    9   \n",
       "2 Yes             Yes                      1       1          2       9    9   \n",
       "3 Yes             Yes                      1       1          3       1    9   \n",
       "4 Yes             Yes                      1       1          3       9    9   \n",
       "5 Yes             Yes                      1       1          3       1    9   \n",
       "6 Yes             Yes                      1       1          2       9    9   \n",
       "  X_d6 X_e1 X_e2 ⋯ hhissi hhincdis hhincva sub hhweight seqn year linkage sba\n",
       "1 9    1    1    ⋯   5460 999999   999999  8   17156324  246 93   1       308\n",
       "2 9    1    1    ⋯   3600 999999   999999  4    1437938 1170 93   2       204\n",
       "3 9    1    1    ⋯  10224 999999   999999  8   15722196 1418 93   1       308\n",
       "4 9    9    9    ⋯ 999999 999999   999999  8   15658576 2530 93   1       308\n",
       "5 9    1    1    ⋯ 999999 999999   999999  6   19855012 2671 93   1       306\n",
       "6 9    1    1    ⋯   5124 999999   999999  4    1503955 3543 93   2       204\n",
       "  geo_id2\n",
       "1 3603803\n",
       "2 3604002\n",
       "3 3603803\n",
       "4 3603803\n",
       "5 3603805\n",
       "6 3604002"
      ]
     },
     "metadata": {},
     "output_type": "display_data"
    },
    {
     "data": {
      "text/html": [
       "<table>\n",
       "<thead><tr><th scope=col>X_d12 == 1</th><th scope=col>n</th></tr></thead>\n",
       "<tbody>\n",
       "\t<tr><td>FALSE</td><td>15552</td></tr>\n",
       "\t<tr><td> TRUE</td><td>  248</td></tr>\n",
       "</tbody>\n",
       "</table>\n"
      ],
      "text/latex": [
       "\\begin{tabular}{r|ll}\n",
       " X\\_d12 == 1 & n\\\\\n",
       "\\hline\n",
       "\t FALSE & 15552\\\\\n",
       "\t  TRUE &   248\\\\\n",
       "\\end{tabular}\n"
      ],
      "text/markdown": [
       "\n",
       "X_d12 == 1 | n | \n",
       "|---|---|\n",
       "| FALSE | 15552 | \n",
       "|  TRUE |   248 | \n",
       "\n",
       "\n"
      ],
      "text/plain": [
       "  X_d12 == 1 n    \n",
       "1 FALSE      15552\n",
       "2  TRUE        248"
      ]
     },
     "metadata": {},
     "output_type": "display_data"
    },
    {
     "data": {
      "text/html": [
       "<table>\n",
       "<thead><tr><th scope=col>ex_walls_missing_sloping == \"Yes\"</th><th scope=col>n</th></tr></thead>\n",
       "<tbody>\n",
       "\t<tr><td>FALSE</td><td>15495</td></tr>\n",
       "\t<tr><td> TRUE</td><td>  248</td></tr>\n",
       "\t<tr><td>   NA</td><td>   57</td></tr>\n",
       "</tbody>\n",
       "</table>\n"
      ],
      "text/latex": [
       "\\begin{tabular}{r|ll}\n",
       " ex\\_walls\\_missing\\_sloping == \"Yes\" & n\\\\\n",
       "\\hline\n",
       "\t FALSE & 15495\\\\\n",
       "\t  TRUE &   248\\\\\n",
       "\t    NA &    57\\\\\n",
       "\\end{tabular}\n"
      ],
      "text/markdown": [
       "\n",
       "ex_walls_missing_sloping == \"Yes\" | n | \n",
       "|---|---|---|\n",
       "| FALSE | 15495 | \n",
       "|  TRUE |   248 | \n",
       "|    NA |    57 | \n",
       "\n",
       "\n"
      ],
      "text/plain": [
       "  ex_walls_missing_sloping == \"Yes\" n    \n",
       "1 FALSE                             15495\n",
       "2  TRUE                               248\n",
       "3    NA                                57"
      ]
     },
     "metadata": {},
     "output_type": "display_data"
    },
    {
     "data": {
      "text/html": [
       "<table>\n",
       "<thead><tr><th scope=col>X_d3 == 1</th><th scope=col>n</th></tr></thead>\n",
       "<tbody>\n",
       "\t<tr><td>FALSE</td><td>15698</td></tr>\n",
       "\t<tr><td> TRUE</td><td>  102</td></tr>\n",
       "</tbody>\n",
       "</table>\n"
      ],
      "text/latex": [
       "\\begin{tabular}{r|ll}\n",
       " X\\_d3 == 1 & n\\\\\n",
       "\\hline\n",
       "\t FALSE & 15698\\\\\n",
       "\t  TRUE &   102\\\\\n",
       "\\end{tabular}\n"
      ],
      "text/markdown": [
       "\n",
       "X_d3 == 1 | n | \n",
       "|---|---|\n",
       "| FALSE | 15698 | \n",
       "|  TRUE |   102 | \n",
       "\n",
       "\n"
      ],
      "text/plain": [
       "  X_d3 == 1 n    \n",
       "1 FALSE     15698\n",
       "2  TRUE       102"
      ]
     },
     "metadata": {},
     "output_type": "display_data"
    },
    {
     "data": {
      "text/html": [
       "<table>\n",
       "<thead><tr><th scope=col>ex_walls_cracks == \"Yes\"</th><th scope=col>n</th></tr></thead>\n",
       "<tbody>\n",
       "\t<tr><td>FALSE</td><td>15641</td></tr>\n",
       "\t<tr><td> TRUE</td><td>  102</td></tr>\n",
       "\t<tr><td>   NA</td><td>   57</td></tr>\n",
       "</tbody>\n",
       "</table>\n"
      ],
      "text/latex": [
       "\\begin{tabular}{r|ll}\n",
       " ex\\_walls\\_cracks == \"Yes\" & n\\\\\n",
       "\\hline\n",
       "\t FALSE & 15641\\\\\n",
       "\t  TRUE &   102\\\\\n",
       "\t    NA &    57\\\\\n",
       "\\end{tabular}\n"
      ],
      "text/markdown": [
       "\n",
       "ex_walls_cracks == \"Yes\" | n | \n",
       "|---|---|---|\n",
       "| FALSE | 15641 | \n",
       "|  TRUE |   102 | \n",
       "|    NA |    57 | \n",
       "\n",
       "\n"
      ],
      "text/plain": [
       "  ex_walls_cracks == \"Yes\" n    \n",
       "1 FALSE                    15641\n",
       "2  TRUE                      102\n",
       "3    NA                       57"
      ]
     },
     "metadata": {},
     "output_type": "display_data"
    },
    {
     "data": {
      "text/html": [
       "<table>\n",
       "<thead><tr><th scope=col>X_d12 == 1 &amp; X_d3 == 1</th><th scope=col>n</th></tr></thead>\n",
       "<tbody>\n",
       "\t<tr><td>FALSE</td><td>15759</td></tr>\n",
       "\t<tr><td> TRUE</td><td>   41</td></tr>\n",
       "</tbody>\n",
       "</table>\n"
      ],
      "text/latex": [
       "\\begin{tabular}{r|ll}\n",
       " X\\_d12 == 1 \\& X\\_d3 == 1 & n\\\\\n",
       "\\hline\n",
       "\t FALSE & 15759\\\\\n",
       "\t  TRUE &    41\\\\\n",
       "\\end{tabular}\n"
      ],
      "text/markdown": [
       "\n",
       "X_d12 == 1 & X_d3 == 1 | n | \n",
       "|---|---|\n",
       "| FALSE | 15759 | \n",
       "|  TRUE |    41 | \n",
       "\n",
       "\n"
      ],
      "text/plain": [
       "  X_d12 == 1 & X_d3 == 1 n    \n",
       "1 FALSE                  15759\n",
       "2  TRUE                     41"
      ]
     },
     "metadata": {},
     "output_type": "display_data"
    },
    {
     "data": {
      "text/html": [
       "<table>\n",
       "<thead><tr><th scope=col>ex_walls_missing_sloping == \"Yes\" &amp; ex_walls_cracks == \"Yes\"</th><th scope=col>n</th></tr></thead>\n",
       "<tbody>\n",
       "\t<tr><td>FALSE</td><td>15702</td></tr>\n",
       "\t<tr><td> TRUE</td><td>   41</td></tr>\n",
       "\t<tr><td>   NA</td><td>   57</td></tr>\n",
       "</tbody>\n",
       "</table>\n"
      ],
      "text/latex": [
       "\\begin{tabular}{r|ll}\n",
       " ex\\_walls\\_missing\\_sloping == \"Yes\" \\& ex\\_walls\\_cracks == \"Yes\" & n\\\\\n",
       "\\hline\n",
       "\t FALSE & 15702\\\\\n",
       "\t  TRUE &    41\\\\\n",
       "\t    NA &    57\\\\\n",
       "\\end{tabular}\n"
      ],
      "text/markdown": [
       "\n",
       "ex_walls_missing_sloping == \"Yes\" & ex_walls_cracks == \"Yes\" | n | \n",
       "|---|---|---|\n",
       "| FALSE | 15702 | \n",
       "|  TRUE |    41 | \n",
       "|    NA |    57 | \n",
       "\n",
       "\n"
      ],
      "text/plain": [
       "  ex_walls_missing_sloping == \"Yes\" & ex_walls_cracks == \"Yes\" n    \n",
       "1 FALSE                                                        15702\n",
       "2  TRUE                                                           41\n",
       "3    NA                                                           57"
      ]
     },
     "metadata": {},
     "output_type": "display_data"
    }
   ],
   "source": [
    "head(df_list[[2]])\n",
    "test1 <- rf_func(df_list[[2]], cb2, 'X_d12', 'ex_walls_missing_sloping')\n",
    "test1 <- rf_func(test1, cb4, 'X_d3', 'ex_walls_cracks')\n",
    "head(test1)\n",
    "\n",
    "df_list[[2]] %>%\n",
    "    select(X_d12) %>%\n",
    "    count(X_d12 == 1)\n",
    "\n",
    "test1 %>%\n",
    "    select(ex_walls_missing_sloping) %>%\n",
    "    count(ex_walls_missing_sloping == 'Yes')\n",
    "\n",
    "df_list[[2]] %>%\n",
    "    select(X_d3) %>%\n",
    "    count(X_d3 == 1)\n",
    "\n",
    "test1 %>%\n",
    "    select(ex_walls_cracks) %>%\n",
    "    count(ex_walls_cracks == 'Yes')\n",
    "\n",
    "df_list[[2]] %>%\n",
    "    select(X_d12, X_d3) %>%\n",
    "    count(X_d12 == 1 & X_d3 == 1)\n",
    "\n",
    "test1 %>%\n",
    "    select(ex_walls_missing_sloping, ex_walls_cracks) %>%\n",
    "    count(ex_walls_missing_sloping == 'Yes' & ex_walls_cracks == 'Yes')"
   ]
  },
  {
   "cell_type": "markdown",
   "metadata": {},
   "source": [
    "### Use the above functions to clean 'em up. Then slap 'em together.\n",
    "* __Notice that you'll have to change the parameters__ of the function<br>\n",
    "calls to the terms referenced in your codebooks.\n",
    "* This will be great to use for visualizations, but not so good for building<br>\n",
    "an index. You cannot execute mathematical operations on the data in this <br>\n",
    "form, rendering it pretty useless in terms of calculating a quality index.<br>\n",
    "* We'll end up converting it back to integers (or maybe modifying it differently<br>\n",
    "with NA's for some of the categories to create a weighted numerical index?\n",
    "* You tell me."
   ]
  },
  {
   "cell_type": "code",
   "execution_count": 12,
   "metadata": {
    "scrolled": false
   },
   "outputs": [
    {
     "name": "stdout",
     "output_type": "stream",
     "text": [
      "[1] \"total samples: \" \"156230\"         \n"
     ]
    }
   ],
   "source": [
    "# Declare a list to capture the cleaned dataframes\n",
    "clean_df_list <- list()\n",
    "\n",
    "# Counter\n",
    "i <- 1\n",
    "\n",
    "# Iterate through the uncleaned dataframes, clean and factor them\n",
    "for (dataframe in df_list) {\n",
    "    \n",
    "    # Use the appropriate function with parameters to rename your answers\n",
    "    # and drop the unnecessary columns\n",
    "    df <- rf_func(dataframe, cb1, 'borough', 'borough_name')\n",
    "    df <- rf_func(df, cb2, 'X_d12', 'ex_walls_missing_sloping')\n",
    "    df <- rf_func(df, cb4, 'X_d3', 'ex_walls_cracks')\n",
    "    df <- rf_func(df, cb5, 'X_d4', 'ex_walls_looseMaterial')\n",
    "    df <- rf_func(df, cb6, 'X_e1', 'ex_windows_missing')  \n",
    "    df <- rf_func(df, cb7, 'X_e2', 'ex_windows_loose')\n",
    "    df <- rf_func(df, cb8, 'X_e3', 'ex_windows_boarded')\n",
    "    df <- rf_func(df, cb9, 'X_f1', 'handrail_problem')\n",
    "    df <- rf_func(df, cb10, 'X_f2', 'stairway_problem')\n",
    "    df <- rf_func(df, cb12, 'X_g3', 'floors_deeply_worn')\n",
    "    df <- rf_func(df, cb13, 'X_g4', 'floors_holes')\n",
    "    df <- rf_func(df, cb14, 'X_h', 'building_condition')\n",
    "    df <- rf_func(df, cb15, 'X_8', 'condo_coop')\n",
    "    df <- rf_func(df, cb16, 'X_9a', 'rent_or_own')\n",
    "    df <- rf_func(df, cb17, 'X_23a', 'elevator')    \n",
    "    df <- rf_func(df, cb18, 'X_25new', 'complete_plumbing')\n",
    "    \n",
    "# # Why, oh Why, do these three columns add ghost rows during conversion?!\n",
    "# # Figured it out, the 2017 codebook has fewer factors as options.\n",
    "# # It synthesizes a new row for each unaccounted for factor. weird.\n",
    "# # Fix coming soon. \n",
    "\n",
    "#     df <- rf_func(df, cb20, 'X_25c', 'toilet_breakdowns')\n",
    "#     df <- rf_func(df, cb21, 'X_26a', 'complete_kitchen') \n",
    "\n",
    "    \n",
    "    \n",
    "    df <- rf_func(df, cb22, 'X_26c', 'kitchen_function')\n",
    "    df <- rf_func(df, cb23, 'X_27', 'type_heating_fuel')\n",
    "    df <- rf_func(df, cb24, 'X_32a', 'heating_breakdown')\n",
    "    df <- rf_func(df, cb25, 'X_32b', 'num_heat_breakdowns')\n",
    "    df <- rf_func(df, cb26, 'X_35a', 'mice_present')\n",
    "    df27 <- rf_func(df, cb27, 'X_35c', 'exterminator_service')\n",
    "    df28 <- rf_func(df, cb28, 'X_36a', 'wall_cracks_or_holes')\n",
    "    df29 <- rf_func(df, cb29, 'X_36b', 'holes_in_floors')\n",
    "    df30 <- rf_func(df, cb30, 'X_38a', 'water_leaks')\n",
    "    df31 <- rf_func(df, cb31, 'X_39', 'neighborhood_rating')\n",
    "            \n",
    "    # Append the clean dataframe to the list\n",
    "    clean_df_list[[i]] <- df\n",
    "    \n",
    "    # Increase the counter\n",
    "    i <- i + 1\n",
    "}\n",
    "\n",
    "# Row bind the list of cleaned dataframes, in order\n",
    "aggregated_df <- bind_rows(clean_df_list)\n",
    "\n",
    "# Factor the year column\n",
    "aggregated_df$year <- as.factor(aggregated_df$year)\n",
    "\n",
    "# aggregated_df <- aggregated_df %>%\n",
    "#                     select(year, borough_name, ex_walls_missing_sloping, ex_walls_cracks,\n",
    "#                           ex_walls_looseMaterial, ex_windows_missing, ex_windows_loose,\n",
    "#                           ex_windows_boarded, handrail_problem, stairway_problem,\n",
    "#                           floors_deeply_worn, floors_holes, building_condition, \n",
    "#                           condo_coop, rent_or_own, elevator, complete_plumbing,\n",
    "#                           kitchen_function, type_heating_fuel, heating_breakdown,\n",
    "#                           num_heat_breakdowns, mice_present)\n",
    "\n",
    "# Show some proof that this works\n",
    "print(c('total samples: ', length(aggregated_df$complete_plumbing)))\n",
    "# print(c('Sample comparison: ', ))\n",
    "# head(aggregated_df)\n",
    "# str(aggregated_df)"
   ]
  },
  {
   "cell_type": "code",
   "execution_count": 8,
   "metadata": {},
   "outputs": [
    {
     "data": {
      "text/html": [
       "156230"
      ],
      "text/latex": [
       "156230"
      ],
      "text/markdown": [
       "156230"
      ],
      "text/plain": [
       "[1] 156230"
      ]
     },
     "metadata": {},
     "output_type": "display_data"
    }
   ],
   "source": [
    "sum <- 0\n",
    "\n",
    "for (i in 1:10) {\n",
    "    sum <- sum + length(df_list[[i]]$borough)\n",
    "}    \n",
    "\n",
    "sum"
   ]
  }
 ],
 "metadata": {
  "kernelspec": {
   "display_name": "R",
   "language": "R",
   "name": "ir"
  },
  "language_info": {
   "codemirror_mode": "r",
   "file_extension": ".r",
   "mimetype": "text/x-r-source",
   "name": "R",
   "pygments_lexer": "r",
   "version": "3.5.1"
  }
 },
 "nbformat": 4,
 "nbformat_minor": 2
}
