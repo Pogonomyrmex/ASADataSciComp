{
 "cells": [
  {
   "cell_type": "markdown",
   "metadata": {},
   "source": [
    "* This is a simple R script to make converting your columns a bit<br> easier"
   ]
  },
  {
   "cell_type": "code",
   "execution_count": 12,
   "metadata": {},
   "outputs": [],
   "source": [
    "library(dplyr)\n",
    "library(ggplot2)\n",
    "library(tidyr)"
   ]
  },
  {
   "cell_type": "code",
   "execution_count": 2,
   "metadata": {},
   "outputs": [
    {
     "data": {
      "text/html": [
       "<table>\n",
       "<thead><tr><th scope=col>recordtype</th><th scope=col>borough</th><th scope=col>X_d12</th><th scope=col>X_d3</th><th scope=col>X_d4</th><th scope=col>X_d5</th><th scope=col>X_d6</th><th scope=col>X_e1</th><th scope=col>X_e2</th><th scope=col>X_e3</th><th scope=col>⋯</th><th scope=col>FW77</th><th scope=col>FW78</th><th scope=col>FW79</th><th scope=col>FW80</th><th scope=col>IL30PER</th><th scope=col>IL50PER</th><th scope=col>IL80PER</th><th scope=col>year</th><th scope=col>sba</th><th scope=col>geo_id2</th></tr></thead>\n",
       "<tbody>\n",
       "\t<tr><td>1       </td><td>1       </td><td>9       </td><td>9       </td><td>9       </td><td>1       </td><td>9       </td><td>9       </td><td>9       </td><td>9       </td><td>⋯       </td><td>11446240</td><td>32161256</td><td> 9745805</td><td>13739972</td><td>21800   </td><td>36250   </td><td>58000   </td><td>2017    </td><td>101     </td><td>3603710 </td></tr>\n",
       "\t<tr><td>1       </td><td>1       </td><td>9       </td><td>9       </td><td>9       </td><td>1       </td><td>9       </td><td>9       </td><td>9       </td><td>9       </td><td>⋯       </td><td>19594332</td><td> 8525261</td><td>36330660</td><td>28940264</td><td>27200   </td><td>45300   </td><td>72500   </td><td>2017    </td><td>101     </td><td>3603710 </td></tr>\n",
       "\t<tr><td>1       </td><td>1       </td><td>9       </td><td>9       </td><td>9       </td><td>1       </td><td>9       </td><td>9       </td><td>9       </td><td>9       </td><td>⋯       </td><td>19594332</td><td> 8525261</td><td>36330660</td><td>28940264</td><td>24500   </td><td>40800   </td><td>65250   </td><td>2017    </td><td>101     </td><td>3603710 </td></tr>\n",
       "\t<tr><td>1       </td><td>1       </td><td>9       </td><td>9       </td><td>9       </td><td>1       </td><td>9       </td><td>9       </td><td>9       </td><td>9       </td><td>⋯       </td><td>57167296</td><td>43401080</td><td>10664017</td><td>66729560</td><td>21800   </td><td>36250   </td><td>58000   </td><td>2017    </td><td>101     </td><td>3603710 </td></tr>\n",
       "\t<tr><td>1       </td><td>1       </td><td>9       </td><td>9       </td><td>9       </td><td>1       </td><td>9       </td><td>9       </td><td>9       </td><td>9       </td><td>⋯       </td><td>70148672</td><td>42706528</td><td>10137630</td><td>64932696</td><td>21800   </td><td>36250   </td><td>58000   </td><td>2017    </td><td>101     </td><td>3603710 </td></tr>\n",
       "\t<tr><td>1       </td><td>1       </td><td>9       </td><td>9       </td><td>9       </td><td>1       </td><td>9       </td><td>9       </td><td>9       </td><td>9       </td><td>⋯       </td><td>37264384</td><td>20239716</td><td> 6243940</td><td>29680360</td><td>21800   </td><td>36250   </td><td>58000   </td><td>2017    </td><td>101     </td><td>3603710 </td></tr>\n",
       "</tbody>\n",
       "</table>\n"
      ],
      "text/latex": [
       "\\begin{tabular}{r|llllllllllllllllllllllllllllllllllllllllllllllllllllllllllllllllllllllllllllllllllllllllllllllllllllllllllllllllllllllllllllllllllllllllllllllllllllllllllllllllllllllllllllllllllllllllllllllllllllllllllllllllllllllllllllll}\n",
       " recordtype & borough & X\\_d12 & X\\_d3 & X\\_d4 & X\\_d5 & X\\_d6 & X\\_e1 & X\\_e2 & X\\_e3 & ⋯ & FW77 & FW78 & FW79 & FW80 & IL30PER & IL50PER & IL80PER & year & sba & geo\\_id2\\\\\n",
       "\\hline\n",
       "\t 1        & 1        & 9        & 9        & 9        & 1        & 9        & 9        & 9        & 9        & ⋯        & 11446240 & 32161256 &  9745805 & 13739972 & 21800    & 36250    & 58000    & 2017     & 101      & 3603710 \\\\\n",
       "\t 1        & 1        & 9        & 9        & 9        & 1        & 9        & 9        & 9        & 9        & ⋯        & 19594332 &  8525261 & 36330660 & 28940264 & 27200    & 45300    & 72500    & 2017     & 101      & 3603710 \\\\\n",
       "\t 1        & 1        & 9        & 9        & 9        & 1        & 9        & 9        & 9        & 9        & ⋯        & 19594332 &  8525261 & 36330660 & 28940264 & 24500    & 40800    & 65250    & 2017     & 101      & 3603710 \\\\\n",
       "\t 1        & 1        & 9        & 9        & 9        & 1        & 9        & 9        & 9        & 9        & ⋯        & 57167296 & 43401080 & 10664017 & 66729560 & 21800    & 36250    & 58000    & 2017     & 101      & 3603710 \\\\\n",
       "\t 1        & 1        & 9        & 9        & 9        & 1        & 9        & 9        & 9        & 9        & ⋯        & 70148672 & 42706528 & 10137630 & 64932696 & 21800    & 36250    & 58000    & 2017     & 101      & 3603710 \\\\\n",
       "\t 1        & 1        & 9        & 9        & 9        & 1        & 9        & 9        & 9        & 9        & ⋯        & 37264384 & 20239716 &  6243940 & 29680360 & 21800    & 36250    & 58000    & 2017     & 101      & 3603710 \\\\\n",
       "\\end{tabular}\n"
      ],
      "text/markdown": [
       "\n",
       "recordtype | borough | X_d12 | X_d3 | X_d4 | X_d5 | X_d6 | X_e1 | X_e2 | X_e3 | ⋯ | FW77 | FW78 | FW79 | FW80 | IL30PER | IL50PER | IL80PER | year | sba | geo_id2 | \n",
       "|---|---|---|---|---|---|\n",
       "| 1        | 1        | 9        | 9        | 9        | 1        | 9        | 9        | 9        | 9        | ⋯        | 11446240 | 32161256 |  9745805 | 13739972 | 21800    | 36250    | 58000    | 2017     | 101      | 3603710  | \n",
       "| 1        | 1        | 9        | 9        | 9        | 1        | 9        | 9        | 9        | 9        | ⋯        | 19594332 |  8525261 | 36330660 | 28940264 | 27200    | 45300    | 72500    | 2017     | 101      | 3603710  | \n",
       "| 1        | 1        | 9        | 9        | 9        | 1        | 9        | 9        | 9        | 9        | ⋯        | 19594332 |  8525261 | 36330660 | 28940264 | 24500    | 40800    | 65250    | 2017     | 101      | 3603710  | \n",
       "| 1        | 1        | 9        | 9        | 9        | 1        | 9        | 9        | 9        | 9        | ⋯        | 57167296 | 43401080 | 10664017 | 66729560 | 21800    | 36250    | 58000    | 2017     | 101      | 3603710  | \n",
       "| 1        | 1        | 9        | 9        | 9        | 1        | 9        | 9        | 9        | 9        | ⋯        | 70148672 | 42706528 | 10137630 | 64932696 | 21800    | 36250    | 58000    | 2017     | 101      | 3603710  | \n",
       "| 1        | 1        | 9        | 9        | 9        | 1        | 9        | 9        | 9        | 9        | ⋯        | 37264384 | 20239716 |  6243940 | 29680360 | 21800    | 36250    | 58000    | 2017     | 101      | 3603710  | \n",
       "\n",
       "\n"
      ],
      "text/plain": [
       "  recordtype borough X_d12 X_d3 X_d4 X_d5 X_d6 X_e1 X_e2 X_e3 ⋯ FW77    \n",
       "1 1          1       9     9    9    1    9    9    9    9    ⋯ 11446240\n",
       "2 1          1       9     9    9    1    9    9    9    9    ⋯ 19594332\n",
       "3 1          1       9     9    9    1    9    9    9    9    ⋯ 19594332\n",
       "4 1          1       9     9    9    1    9    9    9    9    ⋯ 57167296\n",
       "5 1          1       9     9    9    1    9    9    9    9    ⋯ 70148672\n",
       "6 1          1       9     9    9    1    9    9    9    9    ⋯ 37264384\n",
       "  FW78     FW79     FW80     IL30PER IL50PER IL80PER year sba geo_id2\n",
       "1 32161256  9745805 13739972 21800   36250   58000   2017 101 3603710\n",
       "2  8525261 36330660 28940264 27200   45300   72500   2017 101 3603710\n",
       "3  8525261 36330660 28940264 24500   40800   65250   2017 101 3603710\n",
       "4 43401080 10664017 66729560 21800   36250   58000   2017 101 3603710\n",
       "5 42706528 10137630 64932696 21800   36250   58000   2017 101 3603710\n",
       "6 20239716  6243940 29680360 21800   36250   58000   2017 101 3603710"
      ]
     },
     "metadata": {},
     "output_type": "display_data"
    }
   ],
   "source": [
    "# Data-only data frame (with no headers):\n",
    "nych17 <- read.csv('../nycHousing2017.csv', skip = 2, header = FALSE)\n",
    "# Temporary data frame from which to extract the first row of headers: tmp <- read.csv(my.file, header = TRUE)\n",
    "tmp <- read.csv('../nycHousing2017.csv', header = TRUE)\n",
    "# Use headers from tmp for nych17:\n",
    "names(nych17) <- names(tmp)\n",
    "# Remove the temporary data frame:\n",
    "rm(tmp)\n",
    "\n",
    "head(nych17)"
   ]
  },
  {
   "cell_type": "code",
   "execution_count": 8,
   "metadata": {},
   "outputs": [],
   "source": [
    "codebook1 <- data.frame(borough = c(1, 2, 3, 4, 5),\n",
    "                       boroughName = c(\"Bronx\", \"Brooklyn\", \"Manhattan\",\n",
    "                                       \"Queens\", \"Staten Island\"))\n",
    "\n",
    "codebook2 <- data.frame(X_32a = c(0, 1, 8),\n",
    "                       heating_breakdown = c('Yes', 'No', 'Not Reported'))\n",
    "\n",
    "codebook3 <- data.frame(X_32b = c(2, 3, 4, 5, 8, 9),\n",
    "                       num_heat_breakdowns = c(\"1\", \"2\", \"3\",\n",
    "                                        \"4+\", \"Not Reported\",\n",
    "                                        \"No Breakdowns\"))"
   ]
  },
  {
   "cell_type": "code",
   "execution_count": 11,
   "metadata": {
    "scrolled": false
   },
   "outputs": [
    {
     "data": {
      "text/html": [
       "<table>\n",
       "<thead><tr><th scope=col>boroughName</th><th scope=col>heating_breakdown</th><th scope=col>num_heat_breakdowns</th><th scope=col>year</th></tr></thead>\n",
       "<tbody>\n",
       "\t<tr><td>Bronx</td><td>Yes  </td><td>1    </td><td>2017 </td></tr>\n",
       "\t<tr><td>Bronx</td><td>Yes  </td><td>1    </td><td>2017 </td></tr>\n",
       "\t<tr><td>Bronx</td><td>Yes  </td><td>1    </td><td>2017 </td></tr>\n",
       "\t<tr><td>Bronx</td><td>Yes  </td><td>1    </td><td>2017 </td></tr>\n",
       "\t<tr><td>Bronx</td><td>Yes  </td><td>1    </td><td>2017 </td></tr>\n",
       "\t<tr><td>Bronx</td><td>Yes  </td><td>1    </td><td>2017 </td></tr>\n",
       "</tbody>\n",
       "</table>\n"
      ],
      "text/latex": [
       "\\begin{tabular}{r|llll}\n",
       " boroughName & heating\\_breakdown & num\\_heat\\_breakdowns & year\\\\\n",
       "\\hline\n",
       "\t Bronx & Yes   & 1     & 2017 \\\\\n",
       "\t Bronx & Yes   & 1     & 2017 \\\\\n",
       "\t Bronx & Yes   & 1     & 2017 \\\\\n",
       "\t Bronx & Yes   & 1     & 2017 \\\\\n",
       "\t Bronx & Yes   & 1     & 2017 \\\\\n",
       "\t Bronx & Yes   & 1     & 2017 \\\\\n",
       "\\end{tabular}\n"
      ],
      "text/markdown": [
       "\n",
       "boroughName | heating_breakdown | num_heat_breakdowns | year | \n",
       "|---|---|---|---|---|---|\n",
       "| Bronx | Yes   | 1     | 2017  | \n",
       "| Bronx | Yes   | 1     | 2017  | \n",
       "| Bronx | Yes   | 1     | 2017  | \n",
       "| Bronx | Yes   | 1     | 2017  | \n",
       "| Bronx | Yes   | 1     | 2017  | \n",
       "| Bronx | Yes   | 1     | 2017  | \n",
       "\n",
       "\n"
      ],
      "text/plain": [
       "  boroughName heating_breakdown num_heat_breakdowns year\n",
       "1 Bronx       Yes               1                   2017\n",
       "2 Bronx       Yes               1                   2017\n",
       "3 Bronx       Yes               1                   2017\n",
       "4 Bronx       Yes               1                   2017\n",
       "5 Bronx       Yes               1                   2017\n",
       "6 Bronx       Yes               1                   2017"
      ]
     },
     "metadata": {},
     "output_type": "display_data"
    }
   ],
   "source": [
    "# The following is a function to change numerical values to appropriate\n",
    "# categorical (named) values.\n",
    "#\n",
    "# The inputs are as follows:\n",
    "# orig_df - This is the unaltered dataframe from your .csv import (df object)\n",
    "# codebook_df - This is dataframe that represents your 'dictionary' (df object)\n",
    "# orig_name - the original name of the column (string)\n",
    "# new_name - a new (meaningful) name you would like for the column\n",
    "# \n",
    "# Note that old_name and new_name, have to match the column names specified in your \n",
    "# codebook dataframe object\n",
    "\n",
    "rf_func_year <- function(orig_df, \n",
    "                                codebook_df, \n",
    "                                orig_name,\n",
    "                                new_name) {\n",
    "    \n",
    "    df <- left_join(x = codebook_df, y = orig_df, by = orig_name)\n",
    "    df <- select(df, -c(orig_name))\n",
    "    colnames(df)[colnames(df) == orig_name] <- new_name\n",
    "    df <- select(df, new_name, year)\n",
    "    return(df)\n",
    "}\n",
    "\n",
    "rf_func <- function(orig_df, \n",
    "                                codebook_df, \n",
    "                                orig_name,\n",
    "                                new_name) {\n",
    "    \n",
    "    df <- left_join(x = codebook_df, y = orig_df, by = orig_name)\n",
    "    df <- select(df, -c(orig_name))\n",
    "    colnames(df)[colnames(df) == orig_name] <- new_name\n",
    "    df <- select(df, new_name)\n",
    "    return(df)\n",
    "}\n",
    "\n",
    "\n",
    "\n",
    "df1 <- rf_func(nych17, codebook1, 'borough', 'boroughName')\n",
    "df2 <- rf_func(nych17, codebook2, 'X_32a', 'heating_breakdown')\n",
    "df3 <- rf_func_year(nych17, codebook3, 'X_32b', 'num_heat_breakdowns')\n",
    "\n",
    "df <- cbind(df1, df2, df3)\n",
    "\n",
    "head(df)"
   ]
  }
 ],
 "metadata": {
  "kernelspec": {
   "display_name": "R",
   "language": "R",
   "name": "ir"
  },
  "language_info": {
   "codemirror_mode": "r",
   "file_extension": ".r",
   "mimetype": "text/x-r-source",
   "name": "R",
   "pygments_lexer": "r",
   "version": "3.5.1"
  }
 },
 "nbformat": 4,
 "nbformat_minor": 2
}
